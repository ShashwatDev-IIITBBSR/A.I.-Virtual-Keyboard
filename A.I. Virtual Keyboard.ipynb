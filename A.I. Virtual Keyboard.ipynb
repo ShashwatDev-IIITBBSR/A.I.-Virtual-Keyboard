{
 "cells": [
  {
   "cell_type": "code",
   "execution_count": 1,
   "metadata": {},
   "outputs": [
    {
     "name": "stdout",
     "output_type": "stream",
     "text": [
      "Note: you may need to restart the kernel to use updated packages.\n"
     ]
    },
    {
     "name": "stderr",
     "output_type": "stream",
     "text": [
      "The filename, directory name, or volume label syntax is incorrect.\n"
     ]
    }
   ],
   "source": [
    "%pip install pynput"
   ]
  },
  {
   "cell_type": "code",
   "execution_count": 2,
   "metadata": {},
   "outputs": [
    {
     "name": "stdout",
     "output_type": "stream",
     "text": [
      "Note: you may need to restart the kernel to use updated packages.\n"
     ]
    },
    {
     "name": "stderr",
     "output_type": "stream",
     "text": [
      "The filename, directory name, or volume label syntax is incorrect.\n"
     ]
    }
   ],
   "source": [
    "%pip install ruamel"
   ]
  },
  {
   "cell_type": "code",
   "execution_count": 3,
   "metadata": {},
   "outputs": [
    {
     "name": "stderr",
     "output_type": "stream",
     "text": [
      "The filename, directory name, or volume label syntax is incorrect."
     ]
    },
    {
     "name": "stdout",
     "output_type": "stream",
     "text": [
      "Note: you may need to restart the kernel to use updated packages.\n"
     ]
    },
    {
     "name": "stderr",
     "output_type": "stream",
     "text": [
      "\n"
     ]
    }
   ],
   "source": [
    "%pip install cvzone"
   ]
  },
  {
   "cell_type": "code",
   "execution_count": 4,
   "metadata": {},
   "outputs": [
    {
     "name": "stderr",
     "output_type": "stream",
     "text": [
      "The filename, directory name, or volume label syntax is incorrect.\n"
     ]
    },
    {
     "name": "stdout",
     "output_type": "stream",
     "text": [
      "Note: you may need to restart the kernel to use updated packages.\n"
     ]
    }
   ],
   "source": [
    "%pip install HandTrackingModule"
   ]
  },
  {
   "cell_type": "code",
   "execution_count": 5,
   "metadata": {},
   "outputs": [
    {
     "name": "stdout",
     "output_type": "stream",
     "text": [
      "Note: you may need to restart the kernel to use updated packages.\n"
     ]
    },
    {
     "name": "stderr",
     "output_type": "stream",
     "text": [
      "The filename, directory name, or volume label syntax is incorrect.\n"
     ]
    }
   ],
   "source": [
    "%pip install Controller"
   ]
  },
  {
   "cell_type": "code",
   "execution_count": 6,
   "metadata": {},
   "outputs": [],
   "source": [
    "import cv2\n",
    "from cvzone.HandTrackingModule import HandDetector"
   ]
  },
  {
   "cell_type": "code",
   "execution_count": 8,
   "metadata": {},
   "outputs": [],
   "source": [
    "from time import sleep\n",
    "import numpy as np\n",
    "import cvzone\n",
    "#import Controller\n",
    "from pynput.keyboard import Controller\n",
    "#from pynput.keyboard import Controller"
   ]
  },
  {
   "cell_type": "code",
   "execution_count": 9,
   "metadata": {},
   "outputs": [],
   "source": [
    "cap = cv2.VideoCapture(0)\n",
    "#cap=cv2.flip(cap,1)\n",
    "cap.set(3, 1280)\n",
    "cap.set(4, 720)\n",
    "\n",
    "detector = HandDetector(detectionCon=0.8)\n",
    "keys = [[\"Q\", \"W\", \"E\", \"R\", \"T\", \"Y\", \"U\", \"I\", \"O\", \"P\"],\n",
    "        [\"A\", \"S\", \"D\", \"F\", \"G\", \"H\", \"J\", \"K\", \"L\", \";\"],\n",
    "        [\"Z\", \"X\", \"C\", \"V\", \"B\", \"N\", \"M\", \",\", \".\", \"/\"]]\n",
    "finalText = \"\"\n",
    "\n",
    "keyboard = Controller()"
   ]
  },
  {
   "cell_type": "code",
   "execution_count": 10,
   "metadata": {},
   "outputs": [],
   "source": [
    "def drawAll(img, buttonList):\n",
    "    for button in buttonList:\n",
    "        x, y = button.pos\n",
    "        w, h = button.size\n",
    "        cvzone.cornerRect(img, (button.pos[0], button.pos[1], button.size[0], button.size[1]),\n",
    "                          20, rt=0)\n",
    "        cv2.rectangle(img, button.pos, (x + w, y + h), (255, 0, 255), cv2.FILLED)\n",
    "        cv2.putText(img, button.text, (x + 20, y + 65),\n",
    "                    cv2.FONT_HERSHEY_PLAIN, 4, (255, 255, 255), 4)\n",
    "    return img"
   ]
  },
  {
   "cell_type": "code",
   "execution_count": 11,
   "metadata": {},
   "outputs": [],
   "source": [
    "class Button():\n",
    "    def __init__(self, pos, text, size=[85, 85]):\n",
    "        self.pos = pos\n",
    "        self.size = size\n",
    "        self.text = text\n"
   ]
  },
  {
   "cell_type": "code",
   "execution_count": 12,
   "metadata": {},
   "outputs": [],
   "source": [
    "buttonList = []\n",
    "for i in range(len(keys)):\n",
    "    for j, key in enumerate(keys[i]):\n",
    "        buttonList.append(Button([100 * j + 50, 100 * i + 50], key))"
   ]
  },
  {
   "cell_type": "code",
   "execution_count": 13,
   "metadata": {},
   "outputs": [
    {
     "name": "stdout",
     "output_type": "stream",
     "text": [
      "23.53720459187964\n",
      "46.61544808322666\n",
      "53.9351462406472\n",
      "48.05205510693585\n",
      "63.15061361538778\n",
      "64.07027391856539\n",
      "69.58448102845921\n",
      "83.54639429682167\n",
      "83.18653737234168\n",
      "86.97700845625815\n",
      "69.00724599634447\n",
      "63.78871373526825\n",
      "64.32728814430156\n",
      "66.49060083951716\n",
      "64.88451279003334\n",
      "45.27692569068709\n",
      "44.94441010848846\n",
      "36.124783736376884\n",
      "43.73785545725808\n",
      "42.95346318982905\n",
      "68.59300255857008\n",
      "86.97700845625815\n",
      "100.62305898749052\n",
      "100.12991560967183\n",
      "96.17692030835673\n",
      "82.49242389456138\n",
      "66.27216610312357\n",
      "63.12685640834653\n",
      "69.46221994724903\n",
      "72.44308110509934\n",
      "73.43704787094862\n",
      "75.53806987208503\n",
      "70.25667228100119\n",
      "63.198101237299845\n",
      "53.009433122794285\n",
      "45.01110973970759\n",
      "39.01281840626232\n",
      "41.10960958218893\n",
      "36.0\n",
      "39.0\n",
      "35.014282800023196\n",
      "36.49657518178931\n",
      "23.769728648009423\n",
      "18.788294228055936\n",
      "65.06919393998974\n",
      "47.43416490252569\n",
      "39.21734310225516\n",
      "55.44366510251644\n",
      "33.24154027718932\n",
      "40.496913462633174\n",
      "31.780497164141405\n",
      "30.80584360149873\n",
      "28.017851452243796\n",
      "32.14031735997639\n",
      "37.65634076752546\n",
      "37.21558813185679\n",
      "36.0\n",
      "37.0540146272978\n",
      "39.01281840626232\n",
      "38.01315561749642\n",
      "41.04875150354758\n",
      "44.04543109109048\n",
      "42.01190307520001\n",
      "38.0\n",
      "38.2099463490856\n",
      "35.05709628591621\n",
      "34.0147027033899\n",
      "32.0624390837628\n",
      "37.21558813185679\n",
      "35.014282800023196\n",
      "34.132096331752024\n",
      "32.01562118716424\n",
      "36.05551275463989\n",
      "38.2099463490856\n",
      "38.05259518088089\n",
      "38.01315561749642\n",
      "38.05259518088089\n",
      "40.11234224026316\n",
      "39.11521443121589\n",
      "36.124783736376884\n",
      "37.21558813185679\n",
      "36.22154055254967\n",
      "36.05551275463989\n",
      "35.12833614050059\n",
      "36.124783736376884\n",
      "37.21558813185679\n",
      "37.0540146272978\n",
      "36.124783736376884\n",
      "38.118237105091836\n",
      "37.33630940518894\n",
      "38.05259518088089\n",
      "41.77319714841084\n",
      "49.36598018878994\n",
      "50.80354318352215\n",
      "52.952809179494906\n",
      "54.3415126767741\n",
      "46.389654018972806\n",
      "41.43669871020132\n",
      "40.19950248448356\n",
      "36.22154055254967\n",
      "37.21558813185679\n",
      "36.345563690772494\n",
      "36.6742416417845\n",
      "38.07886552931954\n",
      "39.05124837953328\n",
      "39.293765408777\n",
      "38.63935817272331\n",
      "39.81205847478877\n",
      "39.6232255123179\n",
      "37.48332962798263\n",
      "38.2099463490856\n",
      "41.19465984809196\n",
      "42.42640687119285\n",
      "42.1070065428546\n",
      "51.35172830587107\n",
      "58.309518948453\n",
      "62.393909959225994\n",
      "66.12110101926615\n",
      "69.06518659932803\n",
      "68.18357573492314\n",
      "67.02984409947557\n",
      "64.1248781675256\n",
      "57.42821606144492\n",
      "48.76474136094644\n",
      "38.8329756778952\n",
      "44.0\n",
      "44.01136216933078\n",
      "39.11521443121589\n",
      "40.19950248448356\n",
      "39.05124837953328\n",
      "41.012193308819754\n",
      "42.0\n",
      "43.01162633521314\n",
      "44.72135954999579\n",
      "44.10215414239989\n",
      "43.18564576337837\n",
      "44.04543109109048\n",
      "46.01086828130937\n",
      "43.18564576337837\n",
      "42.19004621945797\n",
      "42.29657196511321\n",
      "40.607881008493905\n",
      "42.29657196511321\n",
      "41.19465984809196\n",
      "42.19004621945797\n",
      "41.10960958218893\n",
      "41.30375285612676\n",
      "40.19950248448356\n",
      "39.20459156782532\n",
      "36.22154055254967\n",
      "40.607881008493905\n",
      "39.6232255123179\n",
      "39.293765408777\n",
      "36.6742416417845\n",
      "38.07886552931954\n",
      "42.37924020083418\n",
      "43.32435804486894\n",
      "39.56008088970497\n",
      "38.07886552931954\n",
      "40.2616442783948\n",
      "37.64306044943742\n",
      "39.293765408777\n",
      "41.7612260356422\n",
      "38.63935817272331\n",
      "39.293765408777\n",
      "40.80441152620634\n",
      "38.3275357934736\n",
      "38.600518131237564\n",
      "39.56008088970497\n",
      "39.56008088970497\n",
      "36.68787265568829\n",
      "41.484937025383076\n",
      "46.57252408878007\n",
      "65.25335240430181\n",
      "75.95393340703298\n",
      "76.11832893594027\n",
      "77.10382610480495\n",
      "74.81310045707235\n",
      "76.94153624668539\n",
      "76.11832893594027\n",
      "80.41144197189851\n",
      "81.04936767180853\n",
      "78.91767862779542\n",
      "79.90619500389191\n",
      "78.26237921249263\n",
      "77.92945527847606\n",
      "78.08969202141856\n",
      "79.76214641043707\n",
      "75.95393340703298\n",
      "78.77182237323191\n",
      "78.63841300534999\n",
      "81.04936767180853\n",
      "78.5175139698144\n",
      "65.0\n",
      "26.92582403567252\n",
      "29.966648127543394\n",
      "32.01562118716424\n",
      "25.553864678361276\n",
      "30.870698080866262\n",
      "27.202941017470888\n",
      "33.83784863137726\n",
      "26.925824035672523\n",
      "30.675723300355937\n",
      "26.925824035672523\n",
      "50.35871324805669\n",
      "40.19950248448356\n",
      "18.681541692269406\n",
      "19.026297590440446\n",
      "25.495097567963924\n",
      "27.51363298439521\n",
      "26.476404589747453\n",
      "23.345235059857504\n",
      "25.709920264364882\n",
      "49.39635614091387\n",
      "46.04345773288535\n",
      "64.38167441127949\n",
      "58.420886675914126\n",
      "46.6476151587624\n",
      "47.4236228055175\n",
      "43.41658669218482\n",
      "45.18849411078001\n",
      "46.518813398452025\n",
      "47.01063709417263\n",
      "46.1410879802373\n",
      "45.617978911828175\n",
      "47.01063709417263\n",
      "48.02082881417187\n",
      "44.77722635447622\n",
      "45.27692569068708\n",
      "42.48529157249601\n",
      "17.029386365926403\n",
      "36.124783736376884\n",
      "36.06937759374287\n",
      "29.73213749463701\n",
      "41.86884283091664\n",
      "38.94868418830089\n",
      "29.73213749463701\n",
      "29.73213749463701\n",
      "23.021728866442675\n",
      "42.20189569201839\n",
      "40.496913462633174\n",
      "41.484937025383076\n",
      "38.27531841800928\n",
      "41.10960958218893\n",
      "40.162171256046406\n",
      "40.162171256046406\n",
      "39.56008088970497\n",
      "41.0\n",
      "41.77319714841084\n",
      "35.17101079013795\n",
      "39.293765408777\n",
      "35.510561809129406\n",
      "37.65634076752546\n",
      "39.6232255123179\n",
      "41.77319714841084\n",
      "42.20189569201839\n",
      "41.484937025383076\n",
      "45.122056690713904\n",
      "42.05948168962618\n",
      "42.720018726587654\n",
      "42.44997055358225\n",
      "44.14748010928823\n",
      "42.20189569201839\n",
      "41.23105625617661\n",
      "43.93176527297759\n",
      "40.79215610874228\n",
      "43.68065933568311\n",
      "43.01162633521314\n",
      "40.024992192379\n",
      "43.93176527297759\n",
      "54.571054598569006\n",
      "70.09279563550022\n",
      "73.97972695272672\n",
      "64.5600495662759\n",
      "53.36665625650534\n",
      "50.28916384272063\n",
      "50.921508225896055\n",
      "45.880278987817846\n",
      "44.944410108488455\n",
      "46.486557196677836\n",
      "44.92215489043241\n"
     ]
    }
   ],
   "source": [
    "while True:\n",
    "    success, img = cap.read()\n",
    "    img = detector.findHands(img)\n",
    "    lmList, bboxInfo = detector.findPosition(img)\n",
    "    img = drawAll(img, buttonList)\n",
    "\n",
    "    if lmList:\n",
    "        for button in buttonList:\n",
    "            x, y = button.pos\n",
    "            w, h = button.size\n",
    "\n",
    "            if x < lmList[8][0] < x + w and y < lmList[8][1] < y + h:\n",
    "                cv2.rectangle(img, (x - 5, y - 5), (x + w + 5, y + h + 5), (175, 0, 175), cv2.FILLED)\n",
    "                cv2.putText(img, button.text, (x + 20, y + 65),\n",
    "                            cv2.FONT_HERSHEY_PLAIN, 4, (255, 255, 255), 4)\n",
    "                l, _, _ = detector.findDistance(8, 12, img, draw=False)\n",
    "                print(l)\n",
    "\n",
    "                ## when clicked\n",
    "                if l < 30:\n",
    "                    keyboard.press(button.text)\n",
    "                    cv2.rectangle(img, button.pos, (x + w, y + h), (0, 255, 0), cv2.FILLED)\n",
    "                    cv2.putText(img, button.text, (x + 20, y + 65),\n",
    "                                cv2.FONT_HERSHEY_PLAIN, 4, (255, 255, 255), 4)\n",
    "                    finalText += button.text\n",
    "                    sleep(0.15)\n",
    "\n",
    "    cv2.rectangle(img, (50, 350), (700, 450), (175, 0, 175), cv2.FILLED)\n",
    "    cv2.putText(img, finalText, (60, 430),\n",
    "                cv2.FONT_HERSHEY_PLAIN, 5, (255, 255, 255), 5)\n",
    "\n",
    "    cv2.imshow(\"Image\", img)\n",
    "    cv2.waitKey(1)"
   ]
  },
  {
   "cell_type": "code",
   "execution_count": null,
   "metadata": {},
   "outputs": [],
   "source": []
  }
 ],
 "metadata": {
  "kernelspec": {
   "display_name": "Python 3.9.6 64-bit",
   "language": "python",
   "name": "python3"
  },
  "language_info": {
   "codemirror_mode": {
    "name": "ipython",
    "version": 3
   },
   "file_extension": ".py",
   "mimetype": "text/x-python",
   "name": "python",
   "nbconvert_exporter": "python",
   "pygments_lexer": "ipython3",
   "version": "3.9.6"
  },
  "orig_nbformat": 4,
  "vscode": {
   "interpreter": {
    "hash": "cbc5014ed32a3511c99c810aecedbd8e5a5c878610fa20b4667810c497ccaeea"
   }
  }
 },
 "nbformat": 4,
 "nbformat_minor": 2
}
