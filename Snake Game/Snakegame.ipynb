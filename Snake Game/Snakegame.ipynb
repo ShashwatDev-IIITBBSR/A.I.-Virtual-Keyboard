{
 "cells": [
  {
   "cell_type": "code",
   "execution_count": 10,
   "metadata": {},
   "outputs": [],
   "source": [
    "\n",
    "import math\n",
    "import random\n",
    "import cvzone\n",
    "import cv2\n",
    "import numpy as np\n",
    "from cvzone.HandTrackingModule import HandDetector"
   ]
  },
  {
   "cell_type": "code",
   "execution_count": 11,
   "metadata": {},
   "outputs": [],
   "source": [
    "cap = cv2.VideoCapture(2)\n",
    "cap.set(3, 1280)\n",
    "cap.set(4, 720)\n",
    " \n",
    "detector = HandDetector(detectionCon=0.8, maxHands=1)"
   ]
  },
  {
   "cell_type": "code",
   "execution_count": 12,
   "metadata": {},
   "outputs": [],
   "source": [
    "class SnakeGameClass:\n",
    "    def __init__(self, pathFood):\n",
    "        self.points = []  # all points of the snake\n",
    "        self.lengths = []  # distance between each point\n",
    "        self.currentLength = 0  # total length of the snake\n",
    "        self.allowedLength = 150  # total allowed Length\n",
    "        self.previousHead = 0, 0  # previous head point\n",
    " \n",
    "        self.imgFood = cv2.imread(pathFood, cv2.IMREAD_UNCHANGED)\n",
    "        self.hFood, self.wFood, _ = self.imgFood.shape\n",
    "        self.foodPoint = 0, 0\n",
    "        self.randomFoodLocation()\n",
    " \n",
    "        self.score = 0\n",
    "        self.gameOver = False\n",
    " \n",
    "    def randomFoodLocation(self):\n",
    "        self.foodPoint = random.randint(100, 1000), random.randint(100, 600)\n",
    " \n",
    "    def update(self, imgMain, currentHead):\n",
    " \n",
    "        if self.gameOver:\n",
    "            cvzone.putTextRect(imgMain, \"Game Over\", [300, 400],\n",
    "                               scale=7, thickness=5, offset=20)\n",
    "            cvzone.putTextRect(imgMain, f'Your Score: {self.score}', [300, 550],\n",
    "                               scale=7, thickness=5, offset=20)\n",
    "        else:\n",
    "            px, py = self.previousHead\n",
    "            cx, cy = currentHead\n",
    " \n",
    "            self.points.append([cx, cy])\n",
    "            distance = math.hypot(cx - px, cy - py)\n",
    "            self.lengths.append(distance)\n",
    "            self.currentLength += distance\n",
    "            self.previousHead = cx, cy\n",
    " \n",
    "            # Length Reduction\n",
    "            if self.currentLength > self.allowedLength:\n",
    "                for i, length in enumerate(self.lengths):\n",
    "                    self.currentLength -= length\n",
    "                    self.lengths.pop(i)\n",
    "                    self.points.pop(i)\n",
    "                    if self.currentLength < self.allowedLength:\n",
    "                        break\n",
    " \n",
    "            # Check if snake ate the Food\n",
    "            rx, ry = self.foodPoint\n",
    "            if rx - self.wFood // 2 < cx < rx + self.wFood // 2 and \\\n",
    "                    ry - self.hFood // 2 < cy < ry + self.hFood // 2:\n",
    "                self.randomFoodLocation()\n",
    "                self.allowedLength += 50\n",
    "                self.score += 1\n",
    "                print(self.score)\n",
    " \n",
    "            # Draw Snake\n",
    "            if self.points:\n",
    "                for i, point in enumerate(self.points):\n",
    "                    if i != 0:\n",
    "                        cv2.line(imgMain, self.points[i - 1], self.points[i], (0, 0, 255), 20)\n",
    "                cv2.circle(imgMain, self.points[-1], 20, (0, 255, 0), cv2.FILLED)\n",
    " \n",
    "            # Draw Food\n",
    "            imgMain = cvzone.overlayPNG(imgMain, self.imgFood,\n",
    "                                        (rx - self.wFood // 2, ry - self.hFood // 2))\n",
    " \n",
    "            cvzone.putTextRect(imgMain, f'Score: {self.score}', [50, 80],\n",
    "                               scale=3, thickness=3, offset=10)\n",
    " \n",
    "            # Check for Collision\n",
    "            pts = np.array(self.points[:-2], np.int32)\n",
    "            pts = pts.reshape((-1, 1, 2))\n",
    "            cv2.polylines(imgMain, [pts], False, (0, 255, 0), 3)\n",
    "            minDist = cv2.pointPolygonTest(pts, (cx, cy), True)\n",
    " \n",
    "            if -1 <= minDist <= 1:\n",
    "                print(\"Hit\")\n",
    "                self.gameOver = True\n",
    "                self.points = []  # all points of the snake\n",
    "                self.lengths = []  # distance between each point\n",
    "                self.currentLength = 0  # total length of the snake\n",
    "                self.allowedLength = 150  # total allowed Length\n",
    "                self.previousHead = 0, 0  # previous head point\n",
    "                self.randomFoodLocation()\n",
    " \n",
    "        return imgMain"
   ]
  },
  {
   "cell_type": "code",
   "execution_count": 13,
   "metadata": {},
   "outputs": [
    {
     "ename": "error",
     "evalue": "OpenCV(4.5.3) C:\\Users\\runneradmin\\AppData\\Local\\Temp\\pip-req-build-sn_xpupm\\opencv\\modules\\imgproc\\src\\color.cpp:182: error: (-215:Assertion failed) !_src.empty() in function 'cv::cvtColor'\n",
     "output_type": "error",
     "traceback": [
      "\u001b[1;31m---------------------------------------------------------------------------\u001b[0m",
      "\u001b[1;31merror\u001b[0m                                     Traceback (most recent call last)",
      "\u001b[1;32m~\\AppData\\Local\\Temp/ipykernel_29180/882112521.py\u001b[0m in \u001b[0;36m<module>\u001b[1;34m\u001b[0m\n\u001b[0;32m      4\u001b[0m     \u001b[0msuccess\u001b[0m\u001b[1;33m,\u001b[0m \u001b[0mimg\u001b[0m \u001b[1;33m=\u001b[0m \u001b[0mcap\u001b[0m\u001b[1;33m.\u001b[0m\u001b[0mread\u001b[0m\u001b[1;33m(\u001b[0m\u001b[1;33m)\u001b[0m\u001b[1;33m\u001b[0m\u001b[1;33m\u001b[0m\u001b[0m\n\u001b[0;32m      5\u001b[0m     \u001b[0mimg\u001b[0m \u001b[1;33m=\u001b[0m \u001b[0mcv2\u001b[0m\u001b[1;33m.\u001b[0m\u001b[0mflip\u001b[0m\u001b[1;33m(\u001b[0m\u001b[0mimg\u001b[0m\u001b[1;33m,\u001b[0m \u001b[1;36m1\u001b[0m\u001b[1;33m)\u001b[0m\u001b[1;33m\u001b[0m\u001b[1;33m\u001b[0m\u001b[0m\n\u001b[1;32m----> 6\u001b[1;33m     \u001b[0mhands\u001b[0m\u001b[1;33m,\u001b[0m \u001b[0mimg\u001b[0m \u001b[1;33m=\u001b[0m \u001b[0mdetector\u001b[0m\u001b[1;33m.\u001b[0m\u001b[0mfindHands\u001b[0m\u001b[1;33m(\u001b[0m\u001b[0mimg\u001b[0m\u001b[1;33m)\u001b[0m\u001b[1;33m\u001b[0m\u001b[1;33m\u001b[0m\u001b[0m\n\u001b[0m\u001b[0;32m      7\u001b[0m     \u001b[1;32mif\u001b[0m \u001b[0mhands\u001b[0m\u001b[1;33m:\u001b[0m\u001b[1;33m\u001b[0m\u001b[1;33m\u001b[0m\u001b[0m\n\u001b[0;32m      8\u001b[0m         \u001b[0mlmList\u001b[0m \u001b[1;33m=\u001b[0m \u001b[0mhands\u001b[0m\u001b[1;33m[\u001b[0m\u001b[1;36m0\u001b[0m\u001b[1;33m]\u001b[0m\u001b[1;33m[\u001b[0m\u001b[1;34m'lmList'\u001b[0m\u001b[1;33m]\u001b[0m\u001b[1;33m\u001b[0m\u001b[1;33m\u001b[0m\u001b[0m\n",
      "\u001b[1;32mc:\\Users\\shash\\AppData\\Local\\Programs\\Python\\Python39\\lib\\site-packages\\cvzone\\HandTrackingModule.py\u001b[0m in \u001b[0;36mfindHands\u001b[1;34m(self, img, draw)\u001b[0m\n\u001b[0;32m     45\u001b[0m         \u001b[1;33m:\u001b[0m\u001b[1;32mreturn\u001b[0m\u001b[1;33m:\u001b[0m \u001b[0mImage\u001b[0m \u001b[1;32mwith\u001b[0m \u001b[1;32mor\u001b[0m \u001b[0mwithout\u001b[0m \u001b[0mdrawings\u001b[0m\u001b[1;33m\u001b[0m\u001b[1;33m\u001b[0m\u001b[0m\n\u001b[0;32m     46\u001b[0m         \"\"\"\n\u001b[1;32m---> 47\u001b[1;33m         \u001b[0mimgRGB\u001b[0m \u001b[1;33m=\u001b[0m \u001b[0mcv2\u001b[0m\u001b[1;33m.\u001b[0m\u001b[0mcvtColor\u001b[0m\u001b[1;33m(\u001b[0m\u001b[0mimg\u001b[0m\u001b[1;33m,\u001b[0m \u001b[0mcv2\u001b[0m\u001b[1;33m.\u001b[0m\u001b[0mCOLOR_BGR2RGB\u001b[0m\u001b[1;33m)\u001b[0m\u001b[1;33m\u001b[0m\u001b[1;33m\u001b[0m\u001b[0m\n\u001b[0m\u001b[0;32m     48\u001b[0m         \u001b[0mself\u001b[0m\u001b[1;33m.\u001b[0m\u001b[0mresults\u001b[0m \u001b[1;33m=\u001b[0m \u001b[0mself\u001b[0m\u001b[1;33m.\u001b[0m\u001b[0mhands\u001b[0m\u001b[1;33m.\u001b[0m\u001b[0mprocess\u001b[0m\u001b[1;33m(\u001b[0m\u001b[0mimgRGB\u001b[0m\u001b[1;33m)\u001b[0m\u001b[1;33m\u001b[0m\u001b[1;33m\u001b[0m\u001b[0m\n\u001b[0;32m     49\u001b[0m \u001b[1;33m\u001b[0m\u001b[0m\n",
      "\u001b[1;31merror\u001b[0m: OpenCV(4.5.3) C:\\Users\\runneradmin\\AppData\\Local\\Temp\\pip-req-build-sn_xpupm\\opencv\\modules\\imgproc\\src\\color.cpp:182: error: (-215:Assertion failed) !_src.empty() in function 'cv::cvtColor'\n"
     ]
    }
   ],
   "source": [
    "game = SnakeGameClass(\"Donut.png\")\n",
    " \n",
    "while True:\n",
    "    success, img = cap.read()\n",
    "    img = cv2.flip(img, 1)\n",
    "    hands, img = detector.findHands(img)\n",
    "    if hands:\n",
    "        lmList = hands[0]['lmList']\n",
    "        pointIndex = lmList[8][0:2]\n",
    "        img = game.update(img, pointIndex)\n",
    "    cv2.imshow(\"Image\", img)\n",
    "    key = cv2.waitKey(1)\n",
    "    if key == ord('r'):\n",
    "        game.gameOver = False"
   ]
  },
  {
   "cell_type": "code",
   "execution_count": null,
   "metadata": {},
   "outputs": [],
   "source": []
  }
 ],
 "metadata": {
  "kernelspec": {
   "display_name": "Python 3.9.6 64-bit",
   "language": "python",
   "name": "python3"
  },
  "language_info": {
   "codemirror_mode": {
    "name": "ipython",
    "version": 3
   },
   "file_extension": ".py",
   "mimetype": "text/x-python",
   "name": "python",
   "nbconvert_exporter": "python",
   "pygments_lexer": "ipython3",
   "version": "3.9.6"
  },
  "orig_nbformat": 4,
  "vscode": {
   "interpreter": {
    "hash": "cbc5014ed32a3511c99c810aecedbd8e5a5c878610fa20b4667810c497ccaeea"
   }
  }
 },
 "nbformat": 4,
 "nbformat_minor": 2
}
