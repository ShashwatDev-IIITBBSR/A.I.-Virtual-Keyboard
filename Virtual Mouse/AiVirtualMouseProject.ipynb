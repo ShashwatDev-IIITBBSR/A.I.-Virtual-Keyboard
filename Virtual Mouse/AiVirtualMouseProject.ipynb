{
 "cells": [
  {
   "cell_type": "code",
   "execution_count": 1,
   "metadata": {},
   "outputs": [
    {
     "ename": "ModuleNotFoundError",
     "evalue": "No module named 'HandTrackingModule'",
     "output_type": "error",
     "traceback": [
      "\u001b[1;31m---------------------------------------------------------------------------\u001b[0m",
      "\u001b[1;31mModuleNotFoundError\u001b[0m                       Traceback (most recent call last)",
      "\u001b[1;32m~\\AppData\\Local\\Temp/ipykernel_17948/792925508.py\u001b[0m in \u001b[0;36m<module>\u001b[1;34m\u001b[0m\n\u001b[0;32m      1\u001b[0m \u001b[1;32mimport\u001b[0m \u001b[0mcv2\u001b[0m\u001b[1;33m\u001b[0m\u001b[1;33m\u001b[0m\u001b[0m\n\u001b[0;32m      2\u001b[0m \u001b[1;32mimport\u001b[0m \u001b[0mnumpy\u001b[0m \u001b[1;32mas\u001b[0m \u001b[0mnp\u001b[0m\u001b[1;33m\u001b[0m\u001b[1;33m\u001b[0m\u001b[0m\n\u001b[1;32m----> 3\u001b[1;33m \u001b[1;32mimport\u001b[0m \u001b[0mHandTrackingModule\u001b[0m \u001b[1;32mas\u001b[0m \u001b[0mhtm\u001b[0m\u001b[1;33m\u001b[0m\u001b[1;33m\u001b[0m\u001b[0m\n\u001b[0m\u001b[0;32m      4\u001b[0m \u001b[1;32mimport\u001b[0m \u001b[0mtime\u001b[0m\u001b[1;33m\u001b[0m\u001b[1;33m\u001b[0m\u001b[0m\n\u001b[0;32m      5\u001b[0m \u001b[1;32mimport\u001b[0m \u001b[0mautopy\u001b[0m\u001b[1;33m\u001b[0m\u001b[1;33m\u001b[0m\u001b[0m\n",
      "\u001b[1;31mModuleNotFoundError\u001b[0m: No module named 'HandTrackingModule'"
     ]
    }
   ],
   "source": [
    "import cv2\n",
    "import numpy as np\n",
    "import HandTrackingModule as htm\n",
    "import time\n",
    "import autopy"
   ]
  },
  {
   "cell_type": "code",
   "execution_count": 2,
   "metadata": {},
   "outputs": [
    {
     "ename": "NameError",
     "evalue": "name 'htm' is not defined",
     "output_type": "error",
     "traceback": [
      "\u001b[1;31m---------------------------------------------------------------------------\u001b[0m",
      "\u001b[1;31mNameError\u001b[0m                                 Traceback (most recent call last)",
      "\u001b[1;32m~\\AppData\\Local\\Temp/ipykernel_17948/2815832654.py\u001b[0m in \u001b[0;36m<module>\u001b[1;34m\u001b[0m\n\u001b[0;32m     12\u001b[0m \u001b[0mcap\u001b[0m\u001b[1;33m.\u001b[0m\u001b[0mset\u001b[0m\u001b[1;33m(\u001b[0m\u001b[1;36m3\u001b[0m\u001b[1;33m,\u001b[0m \u001b[0mwCam\u001b[0m\u001b[1;33m)\u001b[0m\u001b[1;33m\u001b[0m\u001b[1;33m\u001b[0m\u001b[0m\n\u001b[0;32m     13\u001b[0m \u001b[0mcap\u001b[0m\u001b[1;33m.\u001b[0m\u001b[0mset\u001b[0m\u001b[1;33m(\u001b[0m\u001b[1;36m4\u001b[0m\u001b[1;33m,\u001b[0m \u001b[0mhCam\u001b[0m\u001b[1;33m)\u001b[0m\u001b[1;33m\u001b[0m\u001b[1;33m\u001b[0m\u001b[0m\n\u001b[1;32m---> 14\u001b[1;33m \u001b[0mdetector\u001b[0m \u001b[1;33m=\u001b[0m \u001b[0mhtm\u001b[0m\u001b[1;33m.\u001b[0m\u001b[0mhandDetector\u001b[0m\u001b[1;33m(\u001b[0m\u001b[0mmaxHands\u001b[0m\u001b[1;33m=\u001b[0m\u001b[1;36m1\u001b[0m\u001b[1;33m)\u001b[0m\u001b[1;33m\u001b[0m\u001b[1;33m\u001b[0m\u001b[0m\n\u001b[0m\u001b[0;32m     15\u001b[0m \u001b[0mwScr\u001b[0m\u001b[1;33m,\u001b[0m \u001b[0mhScr\u001b[0m \u001b[1;33m=\u001b[0m \u001b[0mautopy\u001b[0m\u001b[1;33m.\u001b[0m\u001b[0mscreen\u001b[0m\u001b[1;33m.\u001b[0m\u001b[0msize\u001b[0m\u001b[1;33m(\u001b[0m\u001b[1;33m)\u001b[0m\u001b[1;33m\u001b[0m\u001b[1;33m\u001b[0m\u001b[0m\n\u001b[0;32m     16\u001b[0m \u001b[1;31m# print(wScr, hScr)\u001b[0m\u001b[1;33m\u001b[0m\u001b[1;33m\u001b[0m\u001b[1;33m\u001b[0m\u001b[0m\n",
      "\u001b[1;31mNameError\u001b[0m: name 'htm' is not defined"
     ]
    }
   ],
   "source": [
    "##########################\n",
    "wCam, hCam = 640, 480\n",
    "frameR = 100 # Frame Reduction\n",
    "smoothening = 7\n",
    "#########################\n",
    " \n",
    "pTime = 0\n",
    "plocX, plocY = 0, 0\n",
    "clocX, clocY = 0, 0\n",
    " \n",
    "cap = cv2.VideoCapture(1)\n",
    "cap.set(3, wCam)\n",
    "cap.set(4, hCam)\n",
    "detector = htm.handDetector(maxHands=1)\n",
    "wScr, hScr = autopy.screen.size()\n",
    "# print(wScr, hScr)"
   ]
  },
  {
   "cell_type": "code",
   "execution_count": 3,
   "metadata": {},
   "outputs": [
    {
     "ename": "NameError",
     "evalue": "name 'detector' is not defined",
     "output_type": "error",
     "traceback": [
      "\u001b[1;31m---------------------------------------------------------------------------\u001b[0m",
      "\u001b[1;31mNameError\u001b[0m                                 Traceback (most recent call last)",
      "\u001b[1;32m~\\AppData\\Local\\Temp/ipykernel_17948/844126554.py\u001b[0m in \u001b[0;36m<module>\u001b[1;34m\u001b[0m\n\u001b[0;32m      2\u001b[0m     \u001b[1;31m# 1. Find hand Landmarks\u001b[0m\u001b[1;33m\u001b[0m\u001b[1;33m\u001b[0m\u001b[1;33m\u001b[0m\u001b[0m\n\u001b[0;32m      3\u001b[0m     \u001b[0msuccess\u001b[0m\u001b[1;33m,\u001b[0m \u001b[0mimg\u001b[0m \u001b[1;33m=\u001b[0m \u001b[0mcap\u001b[0m\u001b[1;33m.\u001b[0m\u001b[0mread\u001b[0m\u001b[1;33m(\u001b[0m\u001b[1;33m)\u001b[0m\u001b[1;33m\u001b[0m\u001b[1;33m\u001b[0m\u001b[0m\n\u001b[1;32m----> 4\u001b[1;33m     \u001b[0mimg\u001b[0m \u001b[1;33m=\u001b[0m \u001b[0mdetector\u001b[0m\u001b[1;33m.\u001b[0m\u001b[0mfindHands\u001b[0m\u001b[1;33m(\u001b[0m\u001b[0mimg\u001b[0m\u001b[1;33m)\u001b[0m\u001b[1;33m\u001b[0m\u001b[1;33m\u001b[0m\u001b[0m\n\u001b[0m\u001b[0;32m      5\u001b[0m     \u001b[0mlmList\u001b[0m\u001b[1;33m,\u001b[0m \u001b[0mbbox\u001b[0m \u001b[1;33m=\u001b[0m \u001b[0mdetector\u001b[0m\u001b[1;33m.\u001b[0m\u001b[0mfindPosition\u001b[0m\u001b[1;33m(\u001b[0m\u001b[0mimg\u001b[0m\u001b[1;33m)\u001b[0m\u001b[1;33m\u001b[0m\u001b[1;33m\u001b[0m\u001b[0m\n\u001b[0;32m      6\u001b[0m     \u001b[1;31m# 2. Get the tip of the index and middle fingers\u001b[0m\u001b[1;33m\u001b[0m\u001b[1;33m\u001b[0m\u001b[1;33m\u001b[0m\u001b[0m\n",
      "\u001b[1;31mNameError\u001b[0m: name 'detector' is not defined"
     ]
    }
   ],
   "source": [
    "while True:\n",
    "    # 1. Find hand Landmarks\n",
    "    success, img = cap.read()\n",
    "    img = detector.findHands(img)\n",
    "    lmList, bbox = detector.findPosition(img)\n",
    "    # 2. Get the tip of the index and middle fingers\n",
    "    if len(lmList) != 0:\n",
    "        x1, y1 = lmList[8][1:]\n",
    "        x2, y2 = lmList[12][1:]\n",
    "        # print(x1, y1, x2, y2)\n",
    "    \n",
    "    # 3. Check which fingers are up\n",
    "    fingers = detector.fingersUp()\n",
    "    # print(fingers)\n",
    "    cv2.rectangle(img, (frameR, frameR), (wCam - frameR, hCam - frameR),\n",
    "    (255, 0, 255), 2)\n",
    "    # 4. Only Index Finger : Moving Mode\n",
    "    if fingers[1] == 1 and fingers[2] == 0:\n",
    "        # 5. Convert Coordinates\n",
    "        x3 = np.interp(x1, (frameR, wCam - frameR), (0, wScr))\n",
    "        y3 = np.interp(y1, (frameR, hCam - frameR), (0, hScr))\n",
    "        # 6. Smoothen Values\n",
    "        clocX = plocX + (x3 - plocX) / smoothening\n",
    "        clocY = plocY + (y3 - plocY) / smoothening\n",
    "    \n",
    "        # 7. Move Mouse\n",
    "        autopy.mouse.move(wScr - clocX, clocY)\n",
    "        cv2.circle(img, (x1, y1), 15, (255, 0, 255), cv2.FILLED)\n",
    "        plocX, plocY = clocX, clocY\n",
    "        \n",
    "    # 8. Both Index and middle fingers are up : Clicking Mode\n",
    "    if fingers[1] == 1 and fingers[2] == 1:\n",
    "        # 9. Find distance between fingers\n",
    "        length, img, lineInfo = detector.findDistance(8, 12, img)\n",
    "        print(length)\n",
    "        # 10. Click mouse if distance short\n",
    "        if length < 40:\n",
    "            cv2.circle(img, (lineInfo[4], lineInfo[5]),\n",
    "            15, (0, 255, 0), cv2.FILLED)\n",
    "            autopy.mouse.click()\n",
    "    \n",
    "    # 11. Frame Rate\n",
    "    cTime = time.time()\n",
    "    fps = 1 / (cTime - pTime)\n",
    "    pTime = cTime\n",
    "    cv2.putText(img, str(int(fps)), (20, 50), cv2.FONT_HERSHEY_PLAIN, 3,\n",
    "    (255, 0, 0), 3)\n",
    "    # 12. Display\n",
    "    cv2.imshow(\"Image\", img)\n",
    "    cv2.waitKey(1)"
   ]
  },
  {
   "cell_type": "code",
   "execution_count": null,
   "metadata": {},
   "outputs": [],
   "source": []
  }
 ],
 "metadata": {
  "kernelspec": {
   "display_name": "Python 3.9.6 64-bit",
   "language": "python",
   "name": "python3"
  },
  "language_info": {
   "codemirror_mode": {
    "name": "ipython",
    "version": 3
   },
   "file_extension": ".py",
   "mimetype": "text/x-python",
   "name": "python",
   "nbconvert_exporter": "python",
   "pygments_lexer": "ipython3",
   "version": "3.9.6"
  },
  "orig_nbformat": 4,
  "vscode": {
   "interpreter": {
    "hash": "cbc5014ed32a3511c99c810aecedbd8e5a5c878610fa20b4667810c497ccaeea"
   }
  }
 },
 "nbformat": 4,
 "nbformat_minor": 2
}
